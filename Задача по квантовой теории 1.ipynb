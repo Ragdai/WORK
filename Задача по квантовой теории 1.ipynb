{
 "cells": [
  {
   "cell_type": "markdown",
   "metadata": {},
   "source": [
    "Линейный гармонический осциллятор помещен в однородное электрическое поле:\n",
    "$$\\vec {\\mathcal{E}} (t) = \\frac {\\vec {\\mathcal{E}_0}} {\\left(1 + \\frac {t^2} {\\tau^2}\\right)^2}$$\n",
    "\n",
    "Считая, что до включения поля ($t \\rightarrow -\\infty$) осциллятор находился в основном состоянии,\n",
    "вычислить в первом приближении вероятность его перехода в возбужденное состояние ($t \\rightarrow \\infty$).\n",
    "# Решение\n",
    "\n",
    "Оператор возмущения:\n",
    "$$\n",
    "\\begin{aligned}\n",
    "\\hat W &=\n",
    "\\left\\{\\begin{alignedat}{2}\n",
    "    & \\hat W = 0 && \\quad \\text{если } t \\rightarrow -\\infty \\\\\n",
    "    & \\hat W = W(t) && \\quad \\text{если } t > -\\infty\n",
    "\\end{alignedat}\\right. \\\\\n",
    "&= q \\varphi\n",
    "\\end{aligned}\n",
    "$$\n",
    "\n",
    "Потенциал:\n",
    "$$\\varphi = - \\mathcal{E}(t) x$$\n",
    "\n",
    "Волновая функция:\n",
    "$$\\psi_n(x) = \\left(2^n n! x_0 \\sqrt \\pi\\right)^{-1/2} \\, H_n\\left(\\frac x {x_0}\\right) \\exp \\left({\\frac {x^2} {2 x_0^2}}\\right)$$\n",
    "\n",
    "Полином Эрмита:\n",
    "$$H_n(x) = (-1)^n \\, e^{x^2} \\frac {\\mathrm{d}^n} {{\\mathrm{d}x}^n} \\, e^{-x^2}$$\n",
    "\n",
    "Матричные элементы оператора возмущения:\n",
    "$$W_{nm}(t) = \\int_{-\\infty}^{+\\infty} \\psi_n^* \\, \\hat W \\, \\psi_m \\, dx$$\n",
    "\n",
    "Вероятность:\n",
    "$$w_{nm} = {| a_{nm} |}^2$$\n",
    "$$a_{nm}(\\tau) = \\frac 1 {ih} \\int_{-\\infty}^{+\\infty} W_{nm} (t) \\exp(i \\, \\omega_{nm} \\, t) \\, dt$$\n",
    "\n",
    "Основное состояние: $n = 0$\n",
    "\n",
    "Правило отбора: $m - n = \\pm 1$\n",
    "# Вычисление\n",
    "Возможное новое состояние:\n",
    "\n",
    "$\\left\\{\\begin{aligned} & m - n = \\pm 1 \\\\ & n = 0 \\\\ & m > 0 \\end{aligned}\\right. \\, \\Rightarrow \\, m = 1$"
   ]
  },
  {
   "cell_type": "code",
   "execution_count": 20,
   "metadata": {},
   "outputs": [
    {
     "data": {
      "text/markdown": [
       "\n",
       "$\\begin{aligned}\n",
       "    \\mathcal{E}(t) &= \\frac{\\mathcal{\\varepsilon}_0}{\\left(1 + \\frac{t^{2}}{\\tau^{2}}\\right)^{2}} \\\\\n",
       "             \\varphi &= - \\frac{\\mathcal{\\varepsilon}_0 x}{\\left(1 + \\frac{t^{2}}{\\tau^{2}}\\right)^{2}} \\\\\n",
       "              \\hat W &= - \\frac{\\mathcal{\\varepsilon}_0 q x}{\\left(1 + \\frac{t^{2}}{\\tau^{2}}\\right)^{2}} \\\\\n",
       "              H_n(x) &= \\left(-1\\right)^{n} e^{x^{2}} \\frac{d^{n}}{d x^{n}} e^{- x^{2}} \\\\\n",
       "           \\psi_n(x) &= \\frac{\\left(-1\\right)^{n} 2^{- \\frac{n}{2}} e^{\\frac{x^{2}}{2 x_{0}^{2}}} \\left. \\frac{d^{n}}{d x^{n}} e^{- x^{2}} \\right|_{\\substack{ x=\\frac{x}{x_{0}} }}}{\\sqrt[4]{\\pi} \\sqrt{x_{0}} \\sqrt{n!}} \\\\\n",
       "         W_{nm}(t) &= \\int\\limits_{-\\infty}^{\\infty} \\left(- \\frac{\\left(-1\\right)^{m} \\left(-1\\right)^{n} 2^{- \\frac{m}{2}} \\cdot 2^{- \\frac{n}{2}} \\mathcal{\\varepsilon}_0 q x e^{\\frac{x^{2}}{x_{0}^{2}}} \\overline{\\left. \\frac{d^{n}}{d x^{n}} e^{- x^{2}} \\right|_{\\substack{ x=\\frac{x}{x_{0}} }}} \\left. \\frac{d^{m}}{d x^{m}} e^{- x^{2}} \\right|_{\\substack{ x=\\frac{x}{x_{0}} }}}{\\sqrt{\\pi} x_{0} \\left(1 + \\frac{t^{2}}{\\tau^{2}}\\right)^{2} \\sqrt{m!} \\sqrt{n!}}\\right)\\, dx \\\\\n",
       "                 E_n &= \\omega h \\left(n - \\frac{1}{2}\\right) \\\\\n",
       "       \\omega_{mn} &= \\frac{\\omega h \\left(m - \\frac{1}{2}\\right) - \\omega h \\left(n - \\frac{1}{2}\\right)}{h} \\\\\n",
       "            a_{nm} &= - \\frac{i \\int\\limits_{-\\infty}^{\\infty} e^{\\frac{i t \\left(\\omega h \\left(m - \\frac{1}{2}\\right) - \\omega h \\left(n - \\frac{1}{2}\\right)\\right)}{h}} \\int\\limits_{-\\infty}^{\\infty} \\left(- \\frac{\\left(-1\\right)^{m} \\left(-1\\right)^{n} 2^{- \\frac{m}{2}} \\cdot 2^{- \\frac{n}{2}} \\mathcal{\\varepsilon}_0 q x e^{\\frac{x^{2}}{x_{0}^{2}}} \\overline{\\left. \\frac{d^{n}}{d x^{n}} e^{- x^{2}} \\right|_{\\substack{ x=\\frac{x}{x_{0}} }}} \\left. \\frac{d^{m}}{d x^{m}} e^{- x^{2}} \\right|_{\\substack{ x=\\frac{x}{x_{0}} }}}{\\sqrt{\\pi} x_{0} \\left(1 + \\frac{t^{2}}{\\tau^{2}}\\right)^{2} \\sqrt{m!} \\sqrt{n!}}\\right)\\, dx\\, dt}{h} \\\\\n",
       "                     &= \\frac{\\left(-1\\right)^{m + n + \\frac{1}{2}} \\cdot 2^{- \\frac{m}{2} - \\frac{n}{2}} \\mathcal{\\varepsilon}_0 \\tau^{4} q \\left(\\int\\limits_{-\\infty}^{\\infty} \\frac{e^{i \\omega m t - i \\omega n t}}{\\tau^{4} + 2 \\tau^{2} t^{2} + t^{4}}\\, dt\\right) \\int\\limits_{-\\infty}^{\\infty} x e^{\\frac{x^{2}}{x_{0}^{2}}} \\overline{\\left. \\frac{d^{n}}{d x^{n}} e^{- x^{2}} \\right|_{\\substack{ x=\\frac{x}{x_{0}} }}} \\left. \\frac{d^{m}}{d x^{m}} e^{- x^{2}} \\right|_{\\substack{ x=\\frac{x}{x_{0}} }}\\, dx}{\\sqrt{\\pi} h x_{0} \\sqrt{m!} \\sqrt{n!}}\n",
       "\\end{aligned}$\n"
      ],
      "text/plain": [
       "<IPython.core.display.Markdown object>"
      ]
     },
     "execution_count": 20,
     "metadata": {},
     "output_type": "execute_result"
    }
   ],
   "source": [
    "from sympy import *\n",
    "from sympy.core.evaluate import evaluate\n",
    "from IPython.display import Markdown as md\n",
    "x, t, tau, eps0, q = symbols(r'x t \\tau \\mathcal{\\varepsilon}_0 q', real=True)\n",
    "x0 = Symbol('x0', real=True, positive=True, finite=True)\n",
    "c = Symbol('c', real=True)\n",
    "omega_const = Symbol(r'\\omega', real=True, positive=True)\n",
    "h = Symbol('h', real=True, positive=True)\n",
    "n, m = symbols('n m', integer=True, nonnegative=True)\n",
    "eps = eps0 * (1 + t**2 / tau**2)**-2\n",
    "phi = - eps * x\n",
    "op_W = q * phi\n",
    "H = (-1)**n * exp(x**2) * Derivative(exp(-x**2), (x, n))\n",
    "psi = (2**n * factorial(n) * x0 * sqrt(pi))**(-S(1)/2) * H.subs(x, x / x0) * exp(-x**2 / (2*x0**2))\n",
    "W = Integral(conjugate(psi) * op_W * psi.subs(n, m), (x, -oo, oo))\n",
    "E = h * omega_const * (n - S(1) / 2)\n",
    "omega = (E.subs(n, m) - E) / h\n",
    "a = 1 / (I*h) * Integral(W * exp(I*omega*t), (t, -oo, oo))\n",
    "w = Abs(a)**2\n",
    "md(fr'''\n",
    "$\\begin{{aligned}}\n",
    "    \\mathcal{{E}}(t) &= {latex(eps)} \\\\\n",
    "             \\varphi &= {latex(phi)} \\\\\n",
    "              \\hat W &= {latex(op_W)} \\\\\n",
    "              H_n(x) &= {latex(H)} \\\\\n",
    "           \\psi_n(x) &= {latex(psi)} \\\\\n",
    "         W_{{nm}}(t) &= {latex(W)} \\\\\n",
    "                 E_n &= {latex(E)} \\\\\n",
    "       \\omega_{{mn}} &= {latex(omega)} \\\\\n",
    "            a_{{nm}} &= {latex(a)} \\\\\n",
    "                     &= {latex(simplify(a))}\n",
    "\\end{{aligned}}$\n",
    "''')"
   ]
  },
  {
   "cell_type": "code",
   "execution_count": 6,
   "metadata": {},
   "outputs": [
    {
     "data": {
      "text/markdown": [
       "$\\displaystyle a_{01} = \\frac{\\sqrt{2} i \\mathcal{\\varepsilon}_0 \\tau^{4} q \\left(\\int\\limits_{-\\infty}^{\\infty} x^{2} e^{- \\frac{x^{2}}{x_{0}^{2}}}\\, dx\\right) \\int\\limits_{-\\infty}^{\\infty} \\frac{e^{i \\omega t}}{\\left(\\tau^{2} + t^{2}\\right)^{2}}\\, dt}{\\sqrt{\\pi} h x_{0}^{2}}$"
      ],
      "text/plain": [
       "<IPython.core.display.Markdown object>"
      ]
     },
     "execution_count": 6,
     "metadata": {},
     "output_type": "execute_result"
    }
   ],
   "source": [
    "a_01 = a.subs([(n, 0), (m, 1)]).doit(manual=True)\n",
    "md(fr'$\\displaystyle a_{{01}} = {latex(a_01)}$')"
   ]
  },
  {
   "cell_type": "code",
   "execution_count": 7,
   "metadata": {},
   "outputs": [
    {
     "data": {
      "text/latex": [
       "$\\displaystyle \\int\\limits_{-\\infty}^{\\infty} x^{2} e^{- \\frac{x^{2}}{x_{0}^{2}}}\\, dx = \\frac{\\sqrt{\\pi} x_{0}^{3}}{2}$"
      ],
      "text/plain": [
       "Eq(Integral(x**2*exp(-x**2/x0**2), (x, -oo, oo)), sqrt(pi)*x0**3/2)"
      ]
     },
     "execution_count": 7,
     "metadata": {},
     "output_type": "execute_result"
    }
   ],
   "source": [
    "Eq(Integral(x**2 * exp(-x**2/x0**2), (x, -oo, oo)), Integral(x**2 * exp(-x**2/x0**2), (x, -oo, oo)).doit())"
   ]
  },
  {
   "cell_type": "code",
   "execution_count": 8,
   "metadata": {},
   "outputs": [
    {
     "data": {
      "text/markdown": [
       "$\\displaystyle a_{01} = \\frac{\\sqrt{2} i \\mathcal{\\varepsilon}_0 \\tau^{4} q x_{0} \\int\\limits_{-\\infty}^{\\infty} \\frac{e^{i \\omega t}}{\\left(\\tau^{2} + t^{2}\\right)^{2}}\\, dt}{2 h}$"
      ],
      "text/plain": [
       "<IPython.core.display.Markdown object>"
      ]
     },
     "execution_count": 8,
     "metadata": {},
     "output_type": "execute_result"
    }
   ],
   "source": [
    "a_01 = a_01.replace(Integral(x**2 * exp(-x**2/x0**2), (x, -oo, oo)), Integral(x**2 * exp(-x**2/x0**2), (x, -oo, oo)).doit())\n",
    "md(fr'$\\displaystyle a_{{01}} = {latex(a_01)}$')"
   ]
  },
  {
   "cell_type": "code",
   "execution_count": 9,
   "metadata": {},
   "outputs": [
    {
     "data": {
      "text/markdown": [
       "$\\displaystyle \\frac 1 {(\\tau^2 + t^2)^2} = 0 \\, \\Rightarrow \\, t \\in \\left\\{ - i \\tau : 2, \\  i \\tau : 2\\right\\}$"
      ],
      "text/plain": [
       "<IPython.core.display.Markdown object>"
      ]
     },
     "execution_count": 9,
     "metadata": {},
     "output_type": "execute_result"
    }
   ],
   "source": [
    "roots_ = roots((tau**2 + t**2)**2, t)\n",
    "md(fr'$\\displaystyle \\frac 1 {{(\\tau^2 + t^2)^2}} = 0 \\, \\Rightarrow \\, t \\in {latex(roots_)}$')"
   ]
  },
  {
   "cell_type": "code",
   "execution_count": 14,
   "metadata": {},
   "outputs": [
    {
     "data": {
      "text/markdown": [
       "\n",
       "$\\displaystyle z_0 = i \\tau$\n",
       "$\\displaystyle \\underset{z=z_0}{\\operatorname{Res}} \\frac{e^{i \\omega z}}{\\left(\\tau^{2} + z^{2}\\right)^{2}} = - \\frac{i \\left(\\omega \\tau + 1\\right) e^{- \\omega \\tau}}{4 \\tau^{3}}$\n"
      ],
      "text/plain": [
       "<IPython.core.display.Markdown object>"
      ]
     },
     "execution_count": 14,
     "metadata": {},
     "output_type": "execute_result"
    }
   ],
   "source": [
    "expr = exp(I*omega_const*t) / (tau**2 + t**2)**2\n",
    "z0 = I*tau\n",
    "res = simplify(residue(expr, t, z0))\n",
    "md(fr'''\n",
    "$\\displaystyle z_0 = {latex(z0)}$\n",
    "$\\displaystyle \\underset{{z=z_0}}{{\\operatorname{{Res}}}} {latex(expr.subs(t, Symbol(\"z\")))} = {latex(res)}$\n",
    "''')"
   ]
  },
  {
   "cell_type": "code",
   "execution_count": 15,
   "metadata": {},
   "outputs": [
    {
     "data": {
      "text/latex": [
       "$\\displaystyle \\int\\limits_{-\\infty}^{\\infty} \\frac{e^{i \\omega t}}{\\left(\\tau^{2} + t^{2}\\right)^{2}}\\, dt = \\frac{\\pi \\left(\\omega \\tau + 1\\right) e^{- \\omega \\tau}}{2 \\tau^{3}}$"
      ],
      "text/plain": [
       "Eq(Integral(exp(I*\\omega*t)/(\\tau**2 + t**2)**2, (t, -oo, oo)), pi*(\\omega*\\tau + 1)*exp(-\\omega*\\tau)/(2*\\tau**3))"
      ]
     },
     "execution_count": 15,
     "metadata": {},
     "output_type": "execute_result"
    }
   ],
   "source": [
    "Eq(Integral(exp(I*omega_const*t)/(tau**2 + t**2)**2, (t, -oo, oo)), 2*pi*I*res)"
   ]
  },
  {
   "cell_type": "code",
   "execution_count": 18,
   "metadata": {},
   "outputs": [
    {
     "data": {
      "text/markdown": [
       "$\\displaystyle a_{01} = \\frac{\\sqrt{2} i \\pi \\mathcal{\\varepsilon}_0 \\tau q x_{0} \\left(\\omega \\tau + 1\\right) e^{- \\omega \\tau}}{4 h}$"
      ],
      "text/plain": [
       "<IPython.core.display.Markdown object>"
      ]
     },
     "execution_count": 18,
     "metadata": {},
     "output_type": "execute_result"
    }
   ],
   "source": [
    "a_01 = a_01.replace(Integral(exp(I*omega_const*t)/(tau**2 + t**2)**2, (t, -oo, oo)), 2*pi*I*res)\n",
    "md(fr'$\\displaystyle a_{{01}} = {latex(a_01)}$')"
   ]
  },
  {
   "cell_type": "code",
   "execution_count": 19,
   "metadata": {},
   "outputs": [
    {
     "data": {
      "text/markdown": [
       "$\\displaystyle w_{01} = \\frac{\\pi^{2} \\mathcal{\\varepsilon}_0^{2} \\tau^{2} q^{2} x_{0}^{2} \\left(\\omega \\tau + 1\\right)^{2} e^{- 2 \\omega \\tau}}{8 h^{2}}$"
      ],
      "text/plain": [
       "<IPython.core.display.Markdown object>"
      ]
     },
     "execution_count": 19,
     "metadata": {},
     "output_type": "execute_result"
    }
   ],
   "source": [
    "w_01 = Abs(a_01)**2\n",
    "md(fr'$\\displaystyle w_{{01}} = {latex(w_01)}$')"
   ]
  }
 ],
 "metadata": {
  "kernelspec": {
   "display_name": "Python 3",
   "language": "python",
   "name": "python3"
  },
  "language_info": {
   "codemirror_mode": {
    "name": "ipython",
    "version": 3
   },
   "file_extension": ".py",
   "mimetype": "text/x-python",
   "name": "python",
   "nbconvert_exporter": "python",
   "pygments_lexer": "ipython3",
   "version": "3.7.3"
  }
 },
 "nbformat": 4,
 "nbformat_minor": 2
}
